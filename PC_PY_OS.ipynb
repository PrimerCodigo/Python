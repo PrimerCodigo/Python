{
  "nbformat": 4,
  "nbformat_minor": 0,
  "metadata": {
    "colab": {
      "provenance": [],
      "authorship_tag": "ABX9TyNfed9hMywtzz/RavOdu3lv",
      "include_colab_link": true
    },
    "kernelspec": {
      "name": "python3",
      "display_name": "Python 3"
    },
    "language_info": {
      "name": "python"
    }
  },
  "cells": [
    {
      "cell_type": "markdown",
      "metadata": {
        "id": "view-in-github",
        "colab_type": "text"
      },
      "source": [
        "<a href=\"https://colab.research.google.com/github/PrimerCodigo/Python/blob/main/PC_PY_OS.ipynb\" target=\"_parent\"><img src=\"https://colab.research.google.com/assets/colab-badge.svg\" alt=\"Open In Colab\"/></a>"
      ]
    },
    {
      "cell_type": "markdown",
      "source": [
        "PYTHON + OS"
      ],
      "metadata": {
        "id": "ahZ7SHqQt1op"
      }
    },
    {
      "cell_type": "code",
      "execution_count": null,
      "metadata": {
        "id": "UOFjuCGXf9hK"
      },
      "outputs": [],
      "source": [
        "#Directorio actual:\n",
        "import os\n",
        "os.getcwd()"
      ]
    },
    {
      "cell_type": "code",
      "source": [
        "#Listar archivos y carpetas de la ruta actual:\n",
        "os.listdir(\".\")"
      ],
      "metadata": {
        "id": "XXgmHFjkuLtS"
      },
      "execution_count": null,
      "outputs": []
    },
    {
      "cell_type": "markdown",
      "source": [
        "Obtener Ejemplos de Datos desde GitHub (https://github.com/PrimerCodigo/Data_Ejemplo)"
      ],
      "metadata": {
        "id": "C-VnjW7OWBMI"
      }
    },
    {
      "cell_type": "code",
      "source": [
        "! git clone https://github.com/PrimerCodigo/Data_Ejemplo.git"
      ],
      "metadata": {
        "id": "AfLJ6umdWA9j"
      },
      "execution_count": null,
      "outputs": []
    },
    {
      "cell_type": "code",
      "source": [
        "#Listar archivos y carpetas de Data_Ejemplo:\n",
        "os.listdir(\"Data_Ejemplo\") #Se requiere la ruta completa cuando la carpeta esta en otro nivel"
      ],
      "metadata": {
        "id": "I-8kowwRX0-y"
      },
      "execution_count": null,
      "outputs": []
    },
    {
      "cell_type": "code",
      "source": [
        "#Creación y eliminación de directorios\n",
        "os.mkdir(\"Nueva_Carpeta_de_Prueba\") #Se requiere la ruta completa cuando la carpeta esta en otro nivel\n",
        "\n",
        "print(os.listdir(\".\"))"
      ],
      "metadata": {
        "id": "R_EE1Hwsu6dE"
      },
      "execution_count": null,
      "outputs": []
    },
    {
      "cell_type": "code",
      "source": [
        "#Eliminación de directorios\n",
        "os.rmdir(\"Nueva_Carpeta_de_Prueba\") #Se requiere la ruta completa cuando la carpeta esta en otro nivel\n",
        "\n",
        "print(os.listdir(\".\"))"
      ],
      "metadata": {
        "id": "BK4CmyF0v2-o"
      },
      "execution_count": null,
      "outputs": []
    },
    {
      "cell_type": "code",
      "source": [
        "#Cambiar de directorio de trabajo\n",
        "os.chdir('Data_Ejemplo') #Se requiere la ruta completa cuando la carpeta esta en otro nivel\n",
        "\n",
        "print(os.listdir(\".\"))"
      ],
      "metadata": {
        "id": "l2V1dFCQd7OF"
      },
      "execution_count": null,
      "outputs": []
    },
    {
      "cell_type": "code",
      "source": [
        "#Eliminar un archivo\n",
        "os.remove('supermarket_sales.xlsx')\n",
        "\n",
        "print(os.listdir(\".\"))"
      ],
      "metadata": {
        "id": "oHnnh95wm7t0"
      },
      "execution_count": null,
      "outputs": []
    },
    {
      "cell_type": "code",
      "source": [
        "#Cambiar directorio de trabajo superior\n",
        "os.chdir('..') \n",
        "\n",
        "print(os.listdir(\".\"))"
      ],
      "metadata": {
        "id": "wY9RO0PHhR9P"
      },
      "execution_count": null,
      "outputs": []
    },
    {
      "cell_type": "code",
      "source": [
        "#Cambiar directorio de trabajo a la ruta raiz\n",
        "os.chdir('/') \n",
        "\n",
        "print(os.listdir(\".\"))"
      ],
      "metadata": {
        "id": "5p8_9KUtiwCe"
      },
      "execution_count": null,
      "outputs": []
    },
    {
      "cell_type": "code",
      "source": [
        "#Cambiar directorio de trabajo a content\n",
        "os.chdir('/content/Data_Ejemplo') \n",
        "\n",
        "print(os.listdir(\".\"))"
      ],
      "metadata": {
        "id": "WvE73K3ki9SW"
      },
      "execution_count": null,
      "outputs": []
    },
    {
      "cell_type": "code",
      "source": [
        "#Copiar archivo de Data_Ejemplo a content\n",
        "#shutil.copy('sample.pdf', 'Temp')\n",
        "import shutil\n",
        "\n",
        "shutil.copy('/content/Data_Ejemplo/ThePlay_CharlesBukowski.txt', '/content/Poema.txt')\n"
      ],
      "metadata": {
        "id": "fp8liA6uCbVW"
      },
      "execution_count": null,
      "outputs": []
    },
    {
      "cell_type": "code",
      "source": [
        "#Cambiar directorio de trabajo a content\n",
        "os.chdir('/content') \n",
        "\n",
        "print(os.listdir(\".\"))"
      ],
      "metadata": {
        "id": "33pgXNOyDa7c"
      },
      "execution_count": null,
      "outputs": []
    },
    {
      "cell_type": "markdown",
      "source": [
        "https://colab.research.google.com/drive/1dyuQJ-lNxbpaPHPLySCIFtP0of8E31dU?usp=sharing"
      ],
      "metadata": {
        "id": "Fj4fLT6NYIo1"
      }
    },
    {
      "cell_type": "markdown",
      "source": [
        "Mas info:\n",
        "\n",
        "Módulos de sistema:\n",
        "\n",
        "https://uniwebsidad.com/libros/python/capitulo-10/modulos-de-sistema"
      ],
      "metadata": {
        "id": "MZfpngIqneDa"
      }
    },
    {
      "cell_type": "markdown",
      "source": [
        "Operaciones con archivos y carpetas: \n",
        "\n",
        "https://recursospython.com/guias-y-manuales/os-shutil-archivos-carpetas/"
      ],
      "metadata": {
        "id": "fl67a8IbvwSj"
      }
    },
    {
      "cell_type": "markdown",
      "source": [
        "os — Acceso portable a funciones específicas del sistema operativo: \n",
        "\n",
        "https://rico-schmidt.name/pymotw-3/os/index.html"
      ],
      "metadata": {
        "id": "my5YyrB0za-k"
      }
    },
    {
      "cell_type": "markdown",
      "source": [
        "MÓDULO DE PYTHON OS:\n",
        "\n",
        "https://www.cosmiclearn.com/lang-es/python-os.php"
      ],
      "metadata": {
        "id": "VsuAMcD8zrpY"
      }
    },
    {
      "cell_type": "markdown",
      "source": [
        "Operaciones con ficheros y directorios utilizando Python:\n",
        "\n",
        "https://programacion.net/articulo/operaciones_con_ficheros_y_directorios_utilizando_python_1461"
      ],
      "metadata": {
        "id": "ZT55CjP0CrEM"
      }
    }
  ]
}