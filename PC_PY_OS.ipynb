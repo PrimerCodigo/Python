{
  "nbformat": 4,
  "nbformat_minor": 0,
  "metadata": {
    "colab": {
      "provenance": [],
      "authorship_tag": "ABX9TyMmXcxolpGpcI3IxkFrhekb",
      "include_colab_link": true
    },
    "kernelspec": {
      "name": "python3",
      "display_name": "Python 3"
    },
    "language_info": {
      "name": "python"
    }
  },
  "cells": [
    {
      "cell_type": "markdown",
      "metadata": {
        "id": "view-in-github",
        "colab_type": "text"
      },
      "source": [
        "<a href=\"https://colab.research.google.com/github/PrimerCodigo/Python/blob/main/PC_PY_OS.ipynb\" target=\"_parent\"><img src=\"https://colab.research.google.com/assets/colab-badge.svg\" alt=\"Open In Colab\"/></a>"
      ]
    },
    {
      "cell_type": "markdown",
      "source": [
        "PYTHON + OS"
      ],
      "metadata": {
        "id": "ahZ7SHqQt1op"
      }
    },
    {
      "cell_type": "markdown",
      "source": [
        "https://recursospython.com/guias-y-manuales/os-shutil-archivos-carpetas/"
      ],
      "metadata": {
        "id": "fl67a8IbvwSj"
      }
    },
    {
      "cell_type": "markdown",
      "source": [
        "Directorio actual:"
      ],
      "metadata": {
        "id": "8YXVkT0Jf9hJ"
      }
    },
    {
      "cell_type": "code",
      "execution_count": 1,
      "metadata": {
        "colab": {
          "base_uri": "https://localhost:8080/",
          "height": 35
        },
        "id": "UOFjuCGXf9hK",
        "outputId": "0387924c-2310-4615-ca45-e7563b2174cd"
      },
      "outputs": [
        {
          "output_type": "execute_result",
          "data": {
            "text/plain": [
              "'/content'"
            ],
            "application/vnd.google.colaboratory.intrinsic+json": {
              "type": "string"
            }
          },
          "metadata": {},
          "execution_count": 1
        }
      ],
      "source": [
        "#Directorio actual:\n",
        "import os\n",
        "os.getcwd()"
      ]
    },
    {
      "cell_type": "markdown",
      "source": [
        "Listar archivos y carpetas de la ruta actual:"
      ],
      "metadata": {
        "id": "RExq8GyHulTQ"
      }
    },
    {
      "cell_type": "code",
      "source": [
        "#Listar archivos y carpetas de la ruta actual:\n",
        "os.listdir(\".\")"
      ],
      "metadata": {
        "id": "XXgmHFjkuLtS",
        "colab": {
          "base_uri": "https://localhost:8080/"
        },
        "outputId": "26b1b5ca-4e52-45d8-ed56-f110a5b6ff37"
      },
      "execution_count": 2,
      "outputs": [
        {
          "output_type": "execute_result",
          "data": {
            "text/plain": [
              "['.config', 'Data_Ejemplo', 'sample_data']"
            ]
          },
          "metadata": {},
          "execution_count": 2
        }
      ]
    },
    {
      "cell_type": "markdown",
      "source": [
        "Obtener Ejemplos de Datos desde GitHub (https://github.com/PrimerCodigo/Data_Ejemplo)"
      ],
      "metadata": {
        "id": "C-VnjW7OWBMI"
      }
    },
    {
      "cell_type": "code",
      "source": [
        "! git clone https://github.com/PrimerCodigo/Data_Ejemplo.git"
      ],
      "metadata": {
        "id": "AfLJ6umdWA9j",
        "colab": {
          "base_uri": "https://localhost:8080/"
        },
        "outputId": "a96f5490-3982-4259-d829-e260672e67e5"
      },
      "execution_count": 3,
      "outputs": [
        {
          "output_type": "stream",
          "name": "stdout",
          "text": [
            "fatal: destination path 'Data_Ejemplo' already exists and is not an empty directory.\n"
          ]
        }
      ]
    },
    {
      "cell_type": "code",
      "source": [
        "#Listar archivos y carpetas de Data_Ejemplo:\n",
        "os.listdir(\"Data_Ejemplo\") #Se requiere la ruta completa cuando la carpeta esta en otro nivel"
      ],
      "metadata": {
        "id": "I-8kowwRX0-y",
        "colab": {
          "base_uri": "https://localhost:8080/"
        },
        "outputId": "13bba62a-3325-45a6-b486-3e552f429cf4"
      },
      "execution_count": 4,
      "outputs": [
        {
          "output_type": "execute_result",
          "data": {
            "text/plain": [
              "['supermarket_sales.xlsx',\n",
              " 'Data_Ejemplo',\n",
              " 'ThePlay_CharlesBukowski.txt',\n",
              " 'iris_csv.data.csv',\n",
              " 'Imagen_jpg.jpg',\n",
              " '.git',\n",
              " 'ej_json.json',\n",
              " 'pruebacsv.csv',\n",
              " 'README.md',\n",
              " 'TEXTO.txt']"
            ]
          },
          "metadata": {},
          "execution_count": 4
        }
      ]
    },
    {
      "cell_type": "code",
      "source": [
        "#Creación y eliminación de directorios\n",
        "os.mkdir(\"Nueva_Carpeta_de_Prueba\") #Se requiere la ruta completa cuando la carpeta esta en otro nivel\n",
        "\n",
        "print(os.listdir(\".\"))"
      ],
      "metadata": {
        "id": "R_EE1Hwsu6dE",
        "colab": {
          "base_uri": "https://localhost:8080/"
        },
        "outputId": "57160f09-a552-4fc0-9caf-675b9b742331"
      },
      "execution_count": 5,
      "outputs": [
        {
          "output_type": "stream",
          "name": "stdout",
          "text": [
            "['.config', 'Data_Ejemplo', 'sample_data', 'Nueva_Carpeta_de_Prueba']\n"
          ]
        }
      ]
    },
    {
      "cell_type": "code",
      "source": [
        "#Eliminación de directorios\n",
        "os.rmdir(\"Nueva_Carpeta_de_Prueba\") #Se requiere la ruta completa cuando la carpeta esta en otro nivel\n",
        "\n",
        "print(os.listdir(\".\"))"
      ],
      "metadata": {
        "id": "BK4CmyF0v2-o",
        "colab": {
          "base_uri": "https://localhost:8080/"
        },
        "outputId": "3398f3da-d765-4c75-859c-c280ccaace83"
      },
      "execution_count": 6,
      "outputs": [
        {
          "output_type": "stream",
          "name": "stdout",
          "text": [
            "['.config', 'Data_Ejemplo', 'sample_data']\n"
          ]
        }
      ]
    },
    {
      "cell_type": "code",
      "source": [
        "#Cambiar de directorio de trabajo\n",
        "os.chdir('Data_Ejemplo') #Se requiere la ruta completa cuando la carpeta esta en otro nivel\n",
        "\n",
        "print(os.listdir(\".\"))"
      ],
      "metadata": {
        "id": "l2V1dFCQd7OF",
        "colab": {
          "base_uri": "https://localhost:8080/"
        },
        "outputId": "b35f82d6-9b4f-41e7-a03e-efbcda954cff"
      },
      "execution_count": 7,
      "outputs": [
        {
          "output_type": "stream",
          "name": "stdout",
          "text": [
            "['supermarket_sales.xlsx', 'Data_Ejemplo', 'ThePlay_CharlesBukowski.txt', 'iris_csv.data.csv', 'Imagen_jpg.jpg', '.git', 'ej_json.json', 'pruebacsv.csv', 'README.md', 'TEXTO.txt']\n"
          ]
        }
      ]
    },
    {
      "cell_type": "code",
      "source": [
        "#Cambiar directorio de trabajo superior\n",
        "os.chdir('..') \n",
        "\n",
        "print(os.listdir(\".\"))"
      ],
      "metadata": {
        "colab": {
          "base_uri": "https://localhost:8080/"
        },
        "outputId": "1481b27a-be12-4324-e7d6-37882411ec37",
        "id": "wY9RO0PHhR9P"
      },
      "execution_count": 8,
      "outputs": [
        {
          "output_type": "stream",
          "name": "stdout",
          "text": [
            "['.config', 'Data_Ejemplo', 'sample_data']\n"
          ]
        }
      ]
    },
    {
      "cell_type": "code",
      "source": [
        "#Cambiar directorio de trabajo a la ruta raiz\n",
        "os.chdir('/') \n",
        "\n",
        "print(os.listdir(\".\"))"
      ],
      "metadata": {
        "colab": {
          "base_uri": "https://localhost:8080/"
        },
        "id": "5p8_9KUtiwCe",
        "outputId": "0448ca25-87cb-46ef-f164-421238e546a4"
      },
      "execution_count": 10,
      "outputs": [
        {
          "output_type": "stream",
          "name": "stdout",
          "text": [
            "['srv', 'dev', 'proc', 'boot', 'run', 'etc', 'lib64', 'media', 'sys', 'libx32', 'bin', 'tmp', 'lib32', 'sbin', 'opt', 'mnt', 'root', 'lib', 'var', 'home', 'usr', 'content', '.dockerenv', 'tools', 'datalab', 'python-apt', 'NGC-DL-CONTAINER-LICENSE']\n"
          ]
        }
      ]
    },
    {
      "cell_type": "code",
      "source": [
        "#Cambiar directorio de trabajo a Data_Ejemplo\n",
        "os.chdir('/content/Data_Ejemplo') \n",
        "\n",
        "print(os.listdir(\".\"))"
      ],
      "metadata": {
        "colab": {
          "base_uri": "https://localhost:8080/"
        },
        "id": "WvE73K3ki9SW",
        "outputId": "5b6f5001-a73b-4199-8520-783a6c90c8d5"
      },
      "execution_count": 11,
      "outputs": [
        {
          "output_type": "stream",
          "name": "stdout",
          "text": [
            "['supermarket_sales.xlsx', 'Data_Ejemplo', 'ThePlay_CharlesBukowski.txt', 'iris_csv.data.csv', 'Imagen_jpg.jpg', '.git', 'ej_json.json', 'pruebacsv.csv', 'README.md', 'TEXTO.txt']\n"
          ]
        }
      ]
    },
    {
      "cell_type": "markdown",
      "source": [
        "https://colab.research.google.com/drive/1dyuQJ-lNxbpaPHPLySCIFtP0of8E31dU?usp=sharing"
      ],
      "metadata": {
        "id": "Fj4fLT6NYIo1"
      }
    }
  ]
}