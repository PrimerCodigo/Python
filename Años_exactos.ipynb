{
  "nbformat": 4,
  "nbformat_minor": 0,
  "metadata": {
    "colab": {
      "provenance": []
    },
    "kernelspec": {
      "name": "python3",
      "display_name": "Python 3"
    },
    "language_info": {
      "name": "python"
    }
  },
  "cells": [
    {
      "cell_type": "code",
      "source": [
        "from datetime import datetime\n",
        "\n",
        "def calcular_edad():\n",
        "    # Obtiene la fecha y hora actual\n",
        "    fecha_actual = datetime.now()\n",
        "\n",
        "    # Solicita la fecha de nacimiento al usuario\n",
        "    while True:\n",
        "        try:\n",
        "            fecha_nacimiento_str = input(\"Ingrese su fecha de nacimiento (en formato AAAA-MM-DD): \")\n",
        "            fecha_nacimiento = datetime.strptime(fecha_nacimiento_str, \"%Y-%m-%d\")\n",
        "            break\n",
        "        except ValueError:\n",
        "            print(\"Fecha de nacimiento inválida. Intente nuevamente.\")\n",
        "\n",
        "    # Calcula la diferencia entre la fecha actual y la fecha de nacimiento\n",
        "    diferencia = fecha_actual - fecha_nacimiento\n",
        "\n",
        "    # Calcula la edad en años, meses, días, horas, minutos, segundos y microsegundos\n",
        "    edad_anios = diferencia.days // 365\n",
        "    edad_meses = (diferencia.days % 365) // 30\n",
        "    edad_dias = (diferencia.days % 365) % 30\n",
        "    edad_horas = diferencia.seconds // 3600\n",
        "    edad_minutos = (diferencia.seconds % 3600) // 60\n",
        "    edad_segundos = (diferencia.seconds % 3600) % 60\n",
        "    edad_microsegundos = diferencia.microseconds\n",
        "\n",
        "    # Imprime la edad en el formato deseado\n",
        "    print(\"Su edad exacta es:\", edad_anios, \"años,\", edad_meses, \"meses,\", edad_dias, \"días,\", edad_horas, \"horas,\", edad_minutos, \"minutos,\", edad_segundos, \"segundos,\", edad_microsegundos, \"microsegundos.\")\n",
        "\n",
        "# Llama a la función para calcular la edad\n",
        "calcular_edad()"
      ],
      "metadata": {
        "id": "dOwxwxVyGpdQ"
      },
      "execution_count": null,
      "outputs": []
    },
    {
      "cell_type": "markdown",
      "source": [
        "https://colab.research.google.com/drive/1trJ8vEYVUXNsFLRDQ99NHpgbSeWBy8Go?usp=sharing"
      ],
      "metadata": {
        "id": "nCcm6a7oIy7Y"
      }
    }
  ]
}