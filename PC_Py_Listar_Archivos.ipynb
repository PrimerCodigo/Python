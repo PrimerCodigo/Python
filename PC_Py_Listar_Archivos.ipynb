{
  "nbformat": 4,
  "nbformat_minor": 0,
  "metadata": {
    "colab": {
      "provenance": [],
      "authorship_tag": "ABX9TyOU0dpyQvhQLlVkHOdbtEWO",
      "include_colab_link": true
    },
    "kernelspec": {
      "name": "python3",
      "display_name": "Python 3"
    },
    "language_info": {
      "name": "python"
    }
  },
  "cells": [
    {
      "cell_type": "markdown",
      "metadata": {
        "id": "view-in-github",
        "colab_type": "text"
      },
      "source": [
        "<a href=\"https://colab.research.google.com/github/PrimerCodigo/Python/blob/main/PC_Py_Listar_Archivos.ipynb\" target=\"_parent\"><img src=\"https://colab.research.google.com/assets/colab-badge.svg\" alt=\"Open In Colab\"/></a>"
      ]
    },
    {
      "cell_type": "markdown",
      "source": [
        "Listar Archivos y carpetas de una ruta."
      ],
      "metadata": {
        "id": "4sFGAsHQWNCw"
      }
    },
    {
      "cell_type": "markdown",
      "source": [
        "Obtener Ejemplos de Datos desde GitHub (se puede omitir para este ejemplo)"
      ],
      "metadata": {
        "id": "THebZUiVEzys"
      }
    },
    {
      "cell_type": "code",
      "source": [
        "! git clone https://github.com/PrimerCodigo/Data_Ejemplo.git"
      ],
      "metadata": {
        "id": "S3vdHXbfEyl5"
      },
      "execution_count": null,
      "outputs": []
    },
    {
      "cell_type": "code",
      "execution_count": null,
      "metadata": {
        "id": "p_O6yglEDUlT"
      },
      "outputs": [],
      "source": [
        "import os\n",
        "rootDir = '.'\n",
        "result = {}  # Declaramos el diccionario\n",
        "ruta_app = os.getcwd()\n",
        "print(ruta_app)\n",
        "\n",
        "mi_path = ruta_app +\"/RESULTADO_LISTADO_TXT.txt\" #donde se aloja txt\n",
        "f = open(mi_path, 'a+', encoding='utf-8')\n",
        "\n",
        "#for dirName, subdirList, fileList in os.walk(rootDir):\n",
        "for dirName, subdirList, fileList in os.walk(ruta_app):\n",
        "    filenames = []  # Declaramos la lista en la que se almacenarán los nombres de archivo.\n",
        "    for fname in fileList:\n",
        "        filenames.append(fname)  # Añadimos el nombre de archivo a la lista\n",
        "    result[dirName] = filenames  # y por último seteamos el diccionario (como clave está el directorio y como valor los archivos.\n",
        "\n",
        "for dir, fileList in result.items():\n",
        "    print('Directorio encontrado:' + dir)\n",
        "    for fname in fileList:\n",
        "        print('\\t' + fname)\n",
        "        f.write('Directorio encontrado:' + dir + '\\t' + fname + '\\n')\n",
        "f.close()"
      ]
    }
  ]
}