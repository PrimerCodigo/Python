{
  "nbformat": 4,
  "nbformat_minor": 0,
  "metadata": {
    "colab": {
      "provenance": [],
      "authorship_tag": "ABX9TyNWusjzJBrXx2rfVJ7V5YDu",
      "include_colab_link": true
    },
    "kernelspec": {
      "name": "python3",
      "display_name": "Python 3"
    },
    "language_info": {
      "name": "python"
    }
  },
  "cells": [
    {
      "cell_type": "markdown",
      "metadata": {
        "id": "view-in-github",
        "colab_type": "text"
      },
      "source": [
        "<a href=\"https://colab.research.google.com/github/PrimerCodigo/Python/blob/main/PC_PY_Validador_Rut.ipynb\" target=\"_parent\"><img src=\"https://colab.research.google.com/assets/colab-badge.svg\" alt=\"Open In Colab\"/></a>"
      ]
    },
    {
      "cell_type": "markdown",
      "source": [
        "Validador_Rut"
      ],
      "metadata": {
        "id": "GZlkTXGnRblX"
      }
    },
    {
      "cell_type": "code",
      "execution_count": 31,
      "metadata": {
        "colab": {
          "base_uri": "https://localhost:8080/"
        },
        "id": "MDqxeUWJFjqT",
        "outputId": "dae7cf61-ad9b-4def-b74d-1e7bafe19511"
      },
      "outputs": [
        {
          "output_type": "stream",
          "name": "stdout",
          "text": [
            "N° Rut: 17058578 - Digito Verificador: K\n",
            "El RUT 17058578-K no es válido.\n"
          ]
        }
      ],
      "source": [
        "def validar_rut(rut):\n",
        "    rut = rut.replace(\".\", \"\").replace(\"-\", \"\").upper()\n",
        "    print(f'N° Rut: {rut[:-1]} - Digito Verificador: {rut[-1]}')\n",
        "    #print(f'Digito Verificador: {rut[-1]}')\n",
        "     \n",
        "\n",
        "    if rut[-1] == 'K':\n",
        "        rut = rut[:-1] + '0'\n",
        "\n",
        "    if not rut[:-1].isdigit():\n",
        "        return False\n",
        "\n",
        "    rut_digits = list(map(int, rut[:-1]))\n",
        "    factor = 2\n",
        "    total = 0\n",
        "\n",
        "    for digit in reversed(rut_digits):\n",
        "        total += digit * factor\n",
        "        factor += 1\n",
        "        if factor == 8:\n",
        "            factor = 2\n",
        "\n",
        "    expected_digit = 11 - (total % 11)\n",
        "    expected_digit = str(expected_digit) if expected_digit != 10 else 'K'\n",
        "\n",
        "    return expected_digit == rut[-1]\n",
        "\n",
        "\n",
        "# Ejemplo de uso\n",
        "#rut = \"5.741.721-8\"\n",
        "rut = \"17058578-K\"\n",
        "if validar_rut(rut):\n",
        "    print(f\"El RUT {rut} es válido.\")\n",
        "else:\n",
        "    print(f\"El RUT {rut} no es válido.\")"
      ]
    },
    {
      "cell_type": "markdown",
      "source": [
        "Otra pag. para verificar:\n",
        "\n",
        "https://validarut.cl/validar"
      ],
      "metadata": {
        "id": "4dnaD9TJMVFN"
      }
    }
  ]
}