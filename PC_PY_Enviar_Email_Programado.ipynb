{
  "nbformat": 4,
  "nbformat_minor": 0,
  "metadata": {
    "colab": {
      "provenance": [],
      "authorship_tag": "ABX9TyP2/CTTj6ukBwFMUdVyYl/+",
      "include_colab_link": true
    },
    "kernelspec": {
      "name": "python3",
      "display_name": "Python 3"
    },
    "language_info": {
      "name": "python"
    }
  },
  "cells": [
    {
      "cell_type": "markdown",
      "metadata": {
        "id": "view-in-github",
        "colab_type": "text"
      },
      "source": [
        "<a href=\"https://colab.research.google.com/github/PrimerCodigo/Python/blob/main/PC_PY_Enviar_Email_Programado.ipynb\" target=\"_parent\"><img src=\"https://colab.research.google.com/assets/colab-badge.svg\" alt=\"Open In Colab\"/></a>"
      ]
    },
    {
      "cell_type": "markdown",
      "source": [
        "Enviar un Email de forma Programada"
      ],
      "metadata": {
        "id": "tHnxtTkPfsrf"
      }
    },
    {
      "cell_type": "code",
      "execution_count": null,
      "metadata": {
        "id": "3akTfqt8c30V"
      },
      "outputs": [],
      "source": [
        "# -*- coding: utf-8 -*-\n",
        "\"\"\"\n",
        "https://recursospython.com/guias-y-manuales/enviar-correo-electronico-via-gmail-y-smtp/\n",
        "\n",
        "\"\"\"\n",
        "import smtplib\n",
        "import datetime\n",
        "import time\n",
        "\n",
        "# establece los detalles del correo electrónico\n",
        "remitente = \"correo_personal@gmail.com\"\n",
        "destinatario = \"correo_destino@gmail.com\"\n",
        "asunto = \"Asunto Envio programado \"\n",
        "textoEnviar = \"Hola, este email es un prueba\"\n",
        "\n",
        "# crea un objeto de servidor SMTP y establece una conexión con el servidor de correo electrónico\n",
        "servidor = smtplib.SMTP('smtp.gmail.com', 587)\n",
        "servidor.starttls()\n",
        "servidor.login(remitente, 'xxxx xxxx xxxx xxxx') #Ingresar codigo secreto de tu cuenta. Mas info en el enlace.\n",
        " \n",
        "# espera hasta la hora y fecha programadas para el envío del correo electrónico\n",
        "hora_programada = datetime.datetime(2023, 6, 7, 20, 50) # ejemplo: 7 de junio (6) de 2023 a las 20:50\n",
        "tiempo_restante = (hora_programada - datetime.datetime.now()).total_seconds()\n",
        "print(tiempo_restante)\n",
        "if tiempo_restante > 0:\n",
        "    time.sleep(tiempo_restante)\n",
        "\n",
        "# envía el correo electrónico utilizando el objeto de servidor SMTP y cierra la conexión\n",
        "mensaje = f\"From: {remitente}\\nTo: {destinatario}\\nSubject: {asunto}\\n\\n{textoEnviar}\"\n",
        "#mensaje = f\"From: {remitente}\\nTo: {destinatario}\\nSubject: {asunto}\\n\\n{textoEnviar.encode('utf-8')}\"\n",
        "servidor.sendmail(remitente, destinatario, mensaje)\n",
        "servidor.quit()\n",
        "print(\"Correo electrónico enviado exitosamente.\")\n"
      ]
    }
  ]
}